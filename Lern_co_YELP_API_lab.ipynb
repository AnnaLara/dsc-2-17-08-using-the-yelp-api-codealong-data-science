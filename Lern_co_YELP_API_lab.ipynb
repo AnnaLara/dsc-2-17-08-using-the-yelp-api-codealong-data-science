{
 "cells": [
  {
   "cell_type": "code",
   "execution_count": 1,
   "metadata": {},
   "outputs": [],
   "source": [
    "import json\n",
    "\n",
    "def get_keys(path):\n",
    "    with open(path) as f:\n",
    "        return json.load(f)\n",
    "\n",
    "# NOTE: please change the file path to be your root directory; not Cristian's :) \n",
    "keys = get_keys(\".secret/yelp_api.json\")\n",
    "\n",
    "client_id = keys['client_id']\n",
    "api_key = keys['api_key']"
   ]
  },
  {
   "cell_type": "code",
   "execution_count": 2,
   "metadata": {},
   "outputs": [
    {
     "name": "stdout",
     "output_type": "stream",
     "text": [
      "<Response [200]>\n",
      "<class 'str'>\n",
      "{\"businesses\": [{\"id\": \"ysqgdbSrezXgVwER2kQWKA\", \"alias\": \"julianas-pizza-brooklyn-5\", \"name\": \"Juliana's Pizza\", \"image_url\": \"https://s3-media1.fl.yelpcdn.com/bphoto/7JtwTxhWHf3YS70Ss_CfxA/o.jpg\", \"is_closed\": false, \"url\": \"https://www.yelp.com/biz/julianas-pizza-brooklyn-5?adjust_creative=-ZT-k4bjCiOA1R71AA_KdA&utm_campaign=yelp_api_v3&utm_medium=api_v3_business_search&utm_source=-ZT-k4bjCiOA1R71AA_KdA\", \"review_count\": 1944, \"categories\": [{\"alias\": \"pizza\", \"title\": \"Pizza\"}], \"rating\": 4.5, \"coordinates\": {\"latitude\": 40.7026153030093, \"longitude\": -73.9934159993549}, \"transactions\": [], \"price\": \"$$\", \"location\": {\"address1\": \"19 Old Fulton St\", \"address2\": \"\", \"address3\": \"\", \"city\": \"Brooklyn\", \"zip_code\": \"11201\", \"country\": \"US\", \"state\": \"NY\", \"display_address\": [\"19 Old Fulton St\", \"Brooklyn, NY 11201\"]}, \"phone\": \"+17185966700\", \"display_phone\": \"(718) 596-6700\", \"distance\": 323.20506308227306}, {\"id\": \"zj8Lq1T8KIC5zwFief15jg\", \"alias\": \"prince-street-pizza-new-york-2\", \n"
     ]
    }
   ],
   "source": [
    "import requests\n",
    "\n",
    "term = 'pizza'\n",
    "location = 'NY'\n",
    "SEARCH_LIMIT = 10\n",
    "\n",
    "url = 'https://api.yelp.com/v3/businesses/search'\n",
    "\n",
    "headers = {\n",
    "        'Authorization': 'Bearer {}'.format(api_key),\n",
    "    }\n",
    "\n",
    "url_params = {\n",
    "                'term': term.replace(' ', '+'),\n",
    "                'location': location.replace(' ', '+'),\n",
    "                'limit': SEARCH_LIMIT\n",
    "            }\n",
    "response = requests.get(url, headers=headers, params=url_params)\n",
    "print(response)\n",
    "print(type(response.text))\n",
    "print(response.text[:1000])"
   ]
  },
  {
   "cell_type": "code",
   "execution_count": 3,
   "metadata": {},
   "outputs": [
    {
     "data": {
      "text/plain": [
       "dict_keys(['businesses', 'total', 'region'])"
      ]
     },
     "execution_count": 3,
     "metadata": {},
     "output_type": "execute_result"
    }
   ],
   "source": [
    "response.json().keys()"
   ]
  },
  {
   "cell_type": "code",
   "execution_count": 4,
   "metadata": {},
   "outputs": [
    {
     "data": {
      "text/plain": [
       "10"
      ]
     },
     "execution_count": 4,
     "metadata": {},
     "output_type": "execute_result"
    }
   ],
   "source": [
    "len(response.json()['businesses'])"
   ]
  },
  {
   "cell_type": "code",
   "execution_count": 5,
   "metadata": {},
   "outputs": [
    {
     "data": {
      "text/plain": [
       "{'id': 'ysqgdbSrezXgVwER2kQWKA',\n",
       " 'alias': 'julianas-pizza-brooklyn-5',\n",
       " 'name': \"Juliana's Pizza\",\n",
       " 'image_url': 'https://s3-media1.fl.yelpcdn.com/bphoto/7JtwTxhWHf3YS70Ss_CfxA/o.jpg',\n",
       " 'is_closed': False,\n",
       " 'url': 'https://www.yelp.com/biz/julianas-pizza-brooklyn-5?adjust_creative=-ZT-k4bjCiOA1R71AA_KdA&utm_campaign=yelp_api_v3&utm_medium=api_v3_business_search&utm_source=-ZT-k4bjCiOA1R71AA_KdA',\n",
       " 'review_count': 1944,\n",
       " 'categories': [{'alias': 'pizza', 'title': 'Pizza'}],\n",
       " 'rating': 4.5,\n",
       " 'coordinates': {'latitude': 40.7026153030093, 'longitude': -73.9934159993549},\n",
       " 'transactions': [],\n",
       " 'price': '$$',\n",
       " 'location': {'address1': '19 Old Fulton St',\n",
       "  'address2': '',\n",
       "  'address3': '',\n",
       "  'city': 'Brooklyn',\n",
       "  'zip_code': '11201',\n",
       "  'country': 'US',\n",
       "  'state': 'NY',\n",
       "  'display_address': ['19 Old Fulton St', 'Brooklyn, NY 11201']},\n",
       " 'phone': '+17185966700',\n",
       " 'display_phone': '(718) 596-6700',\n",
       " 'distance': 323.20506308227306}"
      ]
     },
     "execution_count": 5,
     "metadata": {},
     "output_type": "execute_result"
    }
   ],
   "source": [
    "response.json()['businesses'][0]"
   ]
  },
  {
   "cell_type": "markdown",
   "metadata": {},
   "source": [
    "Now that you have an initial response, you can examine the contents of the json container. For example, you might start with response.josn().keys(). Here, you'll see a key for 'total', which tells you the full number of matching results given your query parameters. Write a loop (or ideally a function) which then makes successive API calls using the offset parameter to retrieve all of the results (or 5000 for a particularly large result set) for the original query. As you do this, be mindful of how you store the data. Your final goal will be to reformat the data concerning the businesses themselves into a pandas DataFrame from the json objects."
   ]
  },
  {
   "cell_type": "code",
   "execution_count": 6,
   "metadata": {},
   "outputs": [
    {
     "data": {
      "text/plain": [
       "10700"
      ]
     },
     "execution_count": 6,
     "metadata": {},
     "output_type": "execute_result"
    }
   ],
   "source": [
    "response.json()['total']"
   ]
  },
  {
   "cell_type": "code",
   "execution_count": 7,
   "metadata": {},
   "outputs": [],
   "source": [
    "# as found in https://stackoverflow.com/questions/35525994/how-to-request-more-than-20-results-from-yelp-api\n",
    "\n",
    "def get_businesses(location, term, api_key):\n",
    "    headers = {'Authorization': 'Bearer %s' % api_key}\n",
    "    url = 'https://api.yelp.com/v3/businesses/search'\n",
    "\n",
    "    data = []\n",
    "    for offset in range(0, 1000, 50):\n",
    "        params = {\n",
    "            'limit': 50, \n",
    "            'location': location.replace(' ', '+'),\n",
    "            'term': term.replace(' ', '+'),\n",
    "            'offset': offset\n",
    "        }\n",
    "\n",
    "        response = requests.get(url, headers=headers, params=params)\n",
    "        if response.status_code == 200:\n",
    "            data += response.json()['businesses']\n",
    "        elif response.status_code == 400:\n",
    "            print('400 Bad Request')\n",
    "            break\n",
    "\n",
    "    return data"
   ]
  },
  {
   "cell_type": "code",
   "execution_count": 8,
   "metadata": {},
   "outputs": [],
   "source": [
    "data = get_businesses(location, term, api_key)"
   ]
  },
  {
   "cell_type": "code",
   "execution_count": 9,
   "metadata": {},
   "outputs": [
    {
     "data": {
      "text/plain": [
       "1000"
      ]
     },
     "execution_count": 9,
     "metadata": {},
     "output_type": "execute_result"
    }
   ],
   "source": [
    "len(data)"
   ]
  },
  {
   "cell_type": "code",
   "execution_count": 10,
   "metadata": {},
   "outputs": [],
   "source": [
    "import pandas as pd\n",
    "df = pd.DataFrame(data)"
   ]
  },
  {
   "cell_type": "code",
   "execution_count": 11,
   "metadata": {},
   "outputs": [
    {
     "data": {
      "text/html": [
       "<div>\n",
       "<style scoped>\n",
       "    .dataframe tbody tr th:only-of-type {\n",
       "        vertical-align: middle;\n",
       "    }\n",
       "\n",
       "    .dataframe tbody tr th {\n",
       "        vertical-align: top;\n",
       "    }\n",
       "\n",
       "    .dataframe thead th {\n",
       "        text-align: right;\n",
       "    }\n",
       "</style>\n",
       "<table border=\"1\" class=\"dataframe\">\n",
       "  <thead>\n",
       "    <tr style=\"text-align: right;\">\n",
       "      <th></th>\n",
       "      <th>alias</th>\n",
       "      <th>categories</th>\n",
       "      <th>coordinates</th>\n",
       "      <th>display_phone</th>\n",
       "      <th>distance</th>\n",
       "      <th>id</th>\n",
       "      <th>image_url</th>\n",
       "      <th>is_closed</th>\n",
       "      <th>location</th>\n",
       "      <th>name</th>\n",
       "      <th>phone</th>\n",
       "      <th>price</th>\n",
       "      <th>rating</th>\n",
       "      <th>review_count</th>\n",
       "      <th>transactions</th>\n",
       "      <th>url</th>\n",
       "    </tr>\n",
       "  </thead>\n",
       "  <tbody>\n",
       "    <tr>\n",
       "      <th>0</th>\n",
       "      <td>julianas-pizza-brooklyn-5</td>\n",
       "      <td>[{'alias': 'pizza', 'title': 'Pizza'}]</td>\n",
       "      <td>{'latitude': 40.7026153030093, 'longitude': -7...</td>\n",
       "      <td>(718) 596-6700</td>\n",
       "      <td>323.205063</td>\n",
       "      <td>ysqgdbSrezXgVwER2kQWKA</td>\n",
       "      <td>https://s3-media1.fl.yelpcdn.com/bphoto/7JtwTx...</td>\n",
       "      <td>False</td>\n",
       "      <td>{'address1': '19 Old Fulton St', 'address2': '...</td>\n",
       "      <td>Juliana's Pizza</td>\n",
       "      <td>+17185966700</td>\n",
       "      <td>$$</td>\n",
       "      <td>4.5</td>\n",
       "      <td>1944</td>\n",
       "      <td>[]</td>\n",
       "      <td>https://www.yelp.com/biz/julianas-pizza-brookl...</td>\n",
       "    </tr>\n",
       "    <tr>\n",
       "      <th>1</th>\n",
       "      <td>prince-street-pizza-new-york-2</td>\n",
       "      <td>[{'alias': 'pizza', 'title': 'Pizza'}, {'alias...</td>\n",
       "      <td>{'latitude': 40.7229087705545, 'longitude': -7...</td>\n",
       "      <td>(212) 966-4100</td>\n",
       "      <td>1941.963817</td>\n",
       "      <td>zj8Lq1T8KIC5zwFief15jg</td>\n",
       "      <td>https://s3-media3.fl.yelpcdn.com/bphoto/ZAukOy...</td>\n",
       "      <td>False</td>\n",
       "      <td>{'address1': '27 Prince St', 'address2': None,...</td>\n",
       "      <td>Prince Street Pizza</td>\n",
       "      <td>+12129664100</td>\n",
       "      <td>$</td>\n",
       "      <td>4.5</td>\n",
       "      <td>2698</td>\n",
       "      <td>[pickup, delivery]</td>\n",
       "      <td>https://www.yelp.com/biz/prince-street-pizza-n...</td>\n",
       "    </tr>\n",
       "    <tr>\n",
       "      <th>2</th>\n",
       "      <td>lombardis-pizza-new-york-4</td>\n",
       "      <td>[{'alias': 'pizza', 'title': 'Pizza'}]</td>\n",
       "      <td>{'latitude': 40.7215934960083, 'longitude': -7...</td>\n",
       "      <td>(212) 941-7994</td>\n",
       "      <td>1798.995978</td>\n",
       "      <td>WIhm0W9197f_rRtDziq5qQ</td>\n",
       "      <td>https://s3-media1.fl.yelpcdn.com/bphoto/UZ6V_h...</td>\n",
       "      <td>False</td>\n",
       "      <td>{'address1': '32 Spring St', 'address2': '', '...</td>\n",
       "      <td>Lombardi's Pizza</td>\n",
       "      <td>+12129417994</td>\n",
       "      <td>$$</td>\n",
       "      <td>4.0</td>\n",
       "      <td>5830</td>\n",
       "      <td>[pickup, delivery]</td>\n",
       "      <td>https://www.yelp.com/biz/lombardis-pizza-new-y...</td>\n",
       "    </tr>\n",
       "    <tr>\n",
       "      <th>3</th>\n",
       "      <td>l-industrie-pizzeria-brooklyn</td>\n",
       "      <td>[{'alias': 'pizza', 'title': 'Pizza'}]</td>\n",
       "      <td>{'latitude': 40.71162, 'longitude': -73.95783}</td>\n",
       "      <td>(718) 599-0002</td>\n",
       "      <td>3145.016041</td>\n",
       "      <td>v1DHGRNCH9247WLYoaoA9A</td>\n",
       "      <td>https://s3-media2.fl.yelpcdn.com/bphoto/SRL_Rz...</td>\n",
       "      <td>False</td>\n",
       "      <td>{'address1': '254 S 2nd St', 'address2': '', '...</td>\n",
       "      <td>L'industrie Pizzeria</td>\n",
       "      <td>+17185990002</td>\n",
       "      <td>$</td>\n",
       "      <td>5.0</td>\n",
       "      <td>408</td>\n",
       "      <td>[pickup, delivery]</td>\n",
       "      <td>https://www.yelp.com/biz/l-industrie-pizzeria-...</td>\n",
       "    </tr>\n",
       "    <tr>\n",
       "      <th>4</th>\n",
       "      <td>rizzos-fine-pizza-new-york-4</td>\n",
       "      <td>[{'alias': 'pizza', 'title': 'Pizza'}, {'alias...</td>\n",
       "      <td>{'latitude': 40.720852, 'longitude': -73.984456}</td>\n",
       "      <td>(646) 454-1262</td>\n",
       "      <td>1903.278835</td>\n",
       "      <td>nUpA3sY5b6dynC7aj0eV6A</td>\n",
       "      <td>https://s3-media3.fl.yelpcdn.com/bphoto/r4OPoX...</td>\n",
       "      <td>False</td>\n",
       "      <td>{'address1': '17 Clinton St', 'address2': '', ...</td>\n",
       "      <td>Rizzo's Fine Pizza</td>\n",
       "      <td>+16464541262</td>\n",
       "      <td>$$</td>\n",
       "      <td>4.5</td>\n",
       "      <td>680</td>\n",
       "      <td>[pickup, delivery, restaurant_reservation]</td>\n",
       "      <td>https://www.yelp.com/biz/rizzos-fine-pizza-new...</td>\n",
       "    </tr>\n",
       "  </tbody>\n",
       "</table>\n",
       "</div>"
      ],
      "text/plain": [
       "                            alias  \\\n",
       "0       julianas-pizza-brooklyn-5   \n",
       "1  prince-street-pizza-new-york-2   \n",
       "2      lombardis-pizza-new-york-4   \n",
       "3   l-industrie-pizzeria-brooklyn   \n",
       "4    rizzos-fine-pizza-new-york-4   \n",
       "\n",
       "                                          categories  \\\n",
       "0             [{'alias': 'pizza', 'title': 'Pizza'}]   \n",
       "1  [{'alias': 'pizza', 'title': 'Pizza'}, {'alias...   \n",
       "2             [{'alias': 'pizza', 'title': 'Pizza'}]   \n",
       "3             [{'alias': 'pizza', 'title': 'Pizza'}]   \n",
       "4  [{'alias': 'pizza', 'title': 'Pizza'}, {'alias...   \n",
       "\n",
       "                                         coordinates   display_phone  \\\n",
       "0  {'latitude': 40.7026153030093, 'longitude': -7...  (718) 596-6700   \n",
       "1  {'latitude': 40.7229087705545, 'longitude': -7...  (212) 966-4100   \n",
       "2  {'latitude': 40.7215934960083, 'longitude': -7...  (212) 941-7994   \n",
       "3     {'latitude': 40.71162, 'longitude': -73.95783}  (718) 599-0002   \n",
       "4   {'latitude': 40.720852, 'longitude': -73.984456}  (646) 454-1262   \n",
       "\n",
       "      distance                      id  \\\n",
       "0   323.205063  ysqgdbSrezXgVwER2kQWKA   \n",
       "1  1941.963817  zj8Lq1T8KIC5zwFief15jg   \n",
       "2  1798.995978  WIhm0W9197f_rRtDziq5qQ   \n",
       "3  3145.016041  v1DHGRNCH9247WLYoaoA9A   \n",
       "4  1903.278835  nUpA3sY5b6dynC7aj0eV6A   \n",
       "\n",
       "                                           image_url  is_closed  \\\n",
       "0  https://s3-media1.fl.yelpcdn.com/bphoto/7JtwTx...      False   \n",
       "1  https://s3-media3.fl.yelpcdn.com/bphoto/ZAukOy...      False   \n",
       "2  https://s3-media1.fl.yelpcdn.com/bphoto/UZ6V_h...      False   \n",
       "3  https://s3-media2.fl.yelpcdn.com/bphoto/SRL_Rz...      False   \n",
       "4  https://s3-media3.fl.yelpcdn.com/bphoto/r4OPoX...      False   \n",
       "\n",
       "                                            location                  name  \\\n",
       "0  {'address1': '19 Old Fulton St', 'address2': '...       Juliana's Pizza   \n",
       "1  {'address1': '27 Prince St', 'address2': None,...   Prince Street Pizza   \n",
       "2  {'address1': '32 Spring St', 'address2': '', '...      Lombardi's Pizza   \n",
       "3  {'address1': '254 S 2nd St', 'address2': '', '...  L'industrie Pizzeria   \n",
       "4  {'address1': '17 Clinton St', 'address2': '', ...    Rizzo's Fine Pizza   \n",
       "\n",
       "          phone price  rating  review_count  \\\n",
       "0  +17185966700    $$     4.5          1944   \n",
       "1  +12129664100     $     4.5          2698   \n",
       "2  +12129417994    $$     4.0          5830   \n",
       "3  +17185990002     $     5.0           408   \n",
       "4  +16464541262    $$     4.5           680   \n",
       "\n",
       "                                 transactions  \\\n",
       "0                                          []   \n",
       "1                          [pickup, delivery]   \n",
       "2                          [pickup, delivery]   \n",
       "3                          [pickup, delivery]   \n",
       "4  [pickup, delivery, restaurant_reservation]   \n",
       "\n",
       "                                                 url  \n",
       "0  https://www.yelp.com/biz/julianas-pizza-brookl...  \n",
       "1  https://www.yelp.com/biz/prince-street-pizza-n...  \n",
       "2  https://www.yelp.com/biz/lombardis-pizza-new-y...  \n",
       "3  https://www.yelp.com/biz/l-industrie-pizzeria-...  \n",
       "4  https://www.yelp.com/biz/rizzos-fine-pizza-new...  "
      ]
     },
     "execution_count": 11,
     "metadata": {},
     "output_type": "execute_result"
    }
   ],
   "source": [
    "df.head()"
   ]
  },
  {
   "cell_type": "code",
   "execution_count": 12,
   "metadata": {},
   "outputs": [],
   "source": [
    "#initial EDE on the dataframe"
   ]
  },
  {
   "cell_type": "code",
   "execution_count": 13,
   "metadata": {},
   "outputs": [],
   "source": [
    "#df.info()"
   ]
  },
  {
   "cell_type": "code",
   "execution_count": 15,
   "metadata": {},
   "outputs": [
    {
     "data": {
      "image/png": "[encoded data removed]",
      "text/plain": [
       "<Figure size 432x288 with 2 Axes>"
      ]
     },
     "metadata": {
      "needs_background": "light"
     },
     "output_type": "display_data"
    }
   ],
   "source": [
    "#plot histograms to check distribution of price, review_count and rating columns\n",
    "df[['review_count', 'rating']].hist();"
   ]
  },
  {
   "cell_type": "code",
   "execution_count": 21,
   "metadata": {},
   "outputs": [
    {
     "data": {
      "text/plain": [
       "0       $$\n",
       "1        $\n",
       "2       $$\n",
       "3        $\n",
       "4       $$\n",
       "5       $$\n",
       "6       $$\n",
       "7        $\n",
       "8       $$\n",
       "9        $\n",
       "10       $\n",
       "11      $$\n",
       "12      $$\n",
       "13      $$\n",
       "14      $$\n",
       "15      $$\n",
       "16      $$\n",
       "17      $$\n",
       "18      $$\n",
       "19       $\n",
       "20       $\n",
       "21      $$\n",
       "22      $$\n",
       "23       $\n",
       "24      $$\n",
       "25       $\n",
       "26      $$\n",
       "27       $\n",
       "28       $\n",
       "29       0\n",
       "      ... \n",
       "970      $\n",
       "971      $\n",
       "972      $\n",
       "973     $$\n",
       "974      $\n",
       "975      $\n",
       "976      $\n",
       "977      $\n",
       "978      $\n",
       "979      0\n",
       "980     $$\n",
       "981      $\n",
       "982      $\n",
       "983      $\n",
       "984      $\n",
       "985      $\n",
       "986     $$\n",
       "987     $$\n",
       "988      $\n",
       "989      $\n",
       "990     $$\n",
       "991     $$\n",
       "992      $\n",
       "993      $\n",
       "994      0\n",
       "995     $$\n",
       "996    $$$\n",
       "997     $$\n",
       "998      0\n",
       "999     $$\n",
       "Name: price, Length: 1000, dtype: object"
      ]
     },
     "execution_count": 21,
     "metadata": {},
     "output_type": "execute_result"
    }
   ],
   "source": [
    "#dealing with nan values in price\n",
    "df['price'].fillna(0)"
   ]
  },
  {
   "cell_type": "code",
   "execution_count": 22,
   "metadata": {},
   "outputs": [],
   "source": [
    "try:\n",
    "    df['price_index'] = df['price'].apply(lambda x: len(x))\n",
    "except TypeError:\n",
    "    df['price_index'] = df['price'].apply(lambda x: 0)"
   ]
  },
  {
   "cell_type": "code",
   "execution_count": 24,
   "metadata": {},
   "outputs": [
    {
     "data": {
      "text/plain": [
       "0    0\n",
       "1    0\n",
       "2    0\n",
       "3    0\n",
       "4    0\n",
       "Name: price_index, dtype: int64"
      ]
     },
     "execution_count": 24,
     "metadata": {},
     "output_type": "execute_result"
    }
   ],
   "source": [
    "df['price_index'].head()"
   ]
  },
  {
   "cell_type": "code",
   "execution_count": null,
   "metadata": {},
   "outputs": [],
   "source": []
  }
 ],
 "metadata": {
  "kernelspec": {
   "display_name": "Python [conda env:root]",
   "language": "python",
   "name": "conda-root-py"
  },
  "language_info": {
   "codemirror_mode": {
    "name": "ipython",
    "version": 3
   },
   "file_extension": ".py",
   "mimetype": "text/x-python",
   "name": "python",
   "nbconvert_exporter": "python",
   "pygments_lexer": "ipython3",
   "version": "3.7.1"
  }
 },
 "nbformat": 4,
 "nbformat_minor": 2
}
